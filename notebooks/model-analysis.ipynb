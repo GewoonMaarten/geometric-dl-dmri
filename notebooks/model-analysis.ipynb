{
 "cells": [
  {
   "cell_type": "markdown",
   "id": "e876aac5-729a-42ca-99e0-b37eeed3fdd2",
   "metadata": {},
   "source": [
    "# Model analysis"
   ]
  },
  {
   "cell_type": "code",
   "execution_count": 1,
   "id": "85ccc150-3e41-4697-8e0f-c642717966dd",
   "metadata": {},
   "outputs": [],
   "source": [
    "import project_path  # Always import this first"
   ]
  },
  {
   "cell_type": "code",
   "execution_count": 2,
   "id": "a4bb8358-e410-4f87-ba31-4c74a6e7408a",
   "metadata": {},
   "outputs": [],
   "source": [
    "from datetime import datetime\n",
    "from pathlib import Path\n",
    "\n",
    "import numpy as np\n",
    "import pandas as pd\n",
    "import torch\n",
    "from torch.utils.data import DataLoader\n",
    "\n",
    "from utils.concrete import ConcreteSelect, decoder_1l, decoder_2l, decoder_3l\n",
    "from utils.dataset import MRISelectorSubjDataset\n",
    "from utils.env import DATA_PATH\n",
    "from utils.logger import logger"
   ]
  },
  {
   "cell_type": "code",
   "execution_count": 3,
   "id": "2e8c38a9-2858-4871-8dc5-3bf3d2ba716c",
   "metadata": {},
   "outputs": [
    {
     "name": "stdout",
     "output_type": "stream",
     "text": [
      "\u001b[38;21m2021-07-01 12:09:19,251 - geometric-dl - DEBUG - C:\\Users\\user\\Workspace\\geometric-dl-dmri (<ipython-input-3-6bfbdaf6256e>:2)\u001b[0m\n"
     ]
    }
   ],
   "source": [
    "ROOT_PATH = Path().cwd().parent\n",
    "logger.debug(ROOT_PATH)"
   ]
  },
  {
   "cell_type": "code",
   "execution_count": 4,
   "id": "fdaa719f-4916-4768-9791-b2915f1ecb81",
   "metadata": {
    "tags": []
   },
   "outputs": [
    {
     "name": "stdout",
     "output_type": "stream",
     "text": [
      "\u001b[38;21m2021-07-01 12:09:19,271 - geometric-dl - INFO - torch version 1.9.0 (<ipython-input-4-3c2fef3d866b>:1)\u001b[0m\n"
     ]
    }
   ],
   "source": [
    "logger.info(\"torch version %s\", torch.__version__)"
   ]
  },
  {
   "cell_type": "code",
   "execution_count": 42,
   "id": "30318e3e-6eb0-4fa3-a389-5982f1ca503d",
   "metadata": {},
   "outputs": [
    {
     "name": "stdout",
     "output_type": "stream",
     "text": [
      "\u001b[38;21m2021-07-01 12:29:49,800 - geometric-dl - INFO - Is the GPU available? True (<ipython-input-42-0077c854e8eb>:4)\u001b[0m\n",
      "\u001b[38;21m2021-07-01 12:29:49,800 - geometric-dl - INFO - Current device: 0 (<ipython-input-42-0077c854e8eb>:5)\u001b[0m\n",
      "\u001b[38;21m2021-07-01 12:29:49,800 - geometric-dl - INFO - Device count: 1 (<ipython-input-42-0077c854e8eb>:6)\u001b[0m\n",
      "\u001b[38;21m2021-07-01 12:29:49,800 - geometric-dl - INFO - Using device: _CudaDeviceProperties(name='Quadro RTX 4000', major=7, minor=5, total_memory=8192MB, multi_processor_count=36) (<ipython-input-42-0077c854e8eb>:11)\u001b[0m\n"
     ]
    }
   ],
   "source": [
    "# use gpu if available, else cpu\n",
    "has_cuda = torch.cuda.is_available()\n",
    "\n",
    "logger.info(\"Is the GPU available? %s\", has_cuda)\n",
    "logger.info(\"Current device: %s\", torch.cuda.current_device())\n",
    "logger.info(\"Device count: %s\", torch.cuda.device_count())\n",
    "\n",
    "device = torch.device(\"cuda\" if has_cuda else \"cpu\")\n",
    "if has_cuda:\n",
    "    torch.cuda.set_device(0)\n",
    "    logger.info(\"Using device: %s\", torch.cuda.get_device_properties(device))\n",
    "else:\n",
    "    logger.warning(\"No GPU dectected! Training will be extremly slow\")"
   ]
  },
  {
   "cell_type": "markdown",
   "id": "da4c7615-ccbd-4570-a44b-2b8e387eb687",
   "metadata": {},
   "source": [
    "## Loading the models"
   ]
  },
  {
   "cell_type": "markdown",
   "id": "87f5048a-b5a6-47ab-b74d-b89996954293",
   "metadata": {},
   "source": [
    "First we need to cleanup the filename string. For this we define some helper functions. The string does not really have a nice structure so the cleanup functions are a bit messy."
   ]
  },
  {
   "cell_type": "code",
   "execution_count": 43,
   "id": "6a79a793-0bea-4af0-9418-e9ac6e3fd9d7",
   "metadata": {},
   "outputs": [],
   "source": [
    "def extract_features(feature_str):\n",
    "    \"\"\"Create a Dict with all the features from the model, extracted from its file name\"\"\"\n",
    "    strdate = feature_str[:14]\n",
    "    features_dict = to_dict(\n",
    "        [split_str(substr) for substr in feature_str[15:].split(\"=\")]\n",
    "    )\n",
    "    features_dict[\"datetime\"] = datetime.strptime(strdate, \"%Y%m%d%H%M%S\")\n",
    "\n",
    "    return features_dict\n",
    "\n",
    "\n",
    "def split_str(s):\n",
    "    if s.startswith(\"decoder\"):\n",
    "        # name of the decoder function string contains a '_' character so it needs special treatment\n",
    "        split = s.split(\"_\", 2)\n",
    "        return [\"_\".join(split[:2]), split[-1]]\n",
    "    return s.split(\"_\", 1)\n",
    "\n",
    "\n",
    "def to_dict(fs):\n",
    "    return dict([fs[i][-1], l[0]] for i, l in enumerate(fs[1:]))"
   ]
  },
  {
   "cell_type": "markdown",
   "id": "69ae0e20-e2ad-4955-a4fe-2550f6978c1e",
   "metadata": {},
   "source": [
    "Create lookup Dict to map decoder name to decoder function"
   ]
  },
  {
   "cell_type": "code",
   "execution_count": 44,
   "id": "0c294216-6ff1-4c6f-84d7-3074fc750731",
   "metadata": {},
   "outputs": [],
   "source": [
    "decoder_dict = dict(\n",
    "    [decoder.__name__, decoder] for decoder in [decoder_1l, decoder_2l, decoder_3l]\n",
    ")"
   ]
  },
  {
   "cell_type": "markdown",
   "id": "105d64a7-39a9-4bd2-bbdf-19baac550e18",
   "metadata": {},
   "source": [
    "Load the models and store them in a pandas dataframe"
   ]
  },
  {
   "cell_type": "code",
   "execution_count": 45,
   "id": "9f579e28-9b91-4a03-87d2-15fea1357b95",
   "metadata": {},
   "outputs": [
    {
     "data": {
      "text/html": [
       "<div>\n",
       "<style scoped>\n",
       "    .dataframe tbody tr th:only-of-type {\n",
       "        vertical-align: middle;\n",
       "    }\n",
       "\n",
       "    .dataframe tbody tr th {\n",
       "        vertical-align: top;\n",
       "    }\n",
       "\n",
       "    .dataframe thead th {\n",
       "        text-align: right;\n",
       "    }\n",
       "</style>\n",
       "<table border=\"1\" class=\"dataframe\">\n",
       "  <thead>\n",
       "    <tr style=\"text-align: right;\">\n",
       "      <th></th>\n",
       "      <th>lr</th>\n",
       "      <th>batch_size</th>\n",
       "      <th>num_epochs</th>\n",
       "      <th>n_features</th>\n",
       "      <th>decoder</th>\n",
       "      <th>test</th>\n",
       "      <th>datetime</th>\n",
       "      <th>path</th>\n",
       "    </tr>\n",
       "  </thead>\n",
       "  <tbody>\n",
       "    <tr>\n",
       "      <th>2021-06-28 10:44:35</th>\n",
       "      <td>0.001</td>\n",
       "      <td>256</td>\n",
       "      <td>2000</td>\n",
       "      <td>21</td>\n",
       "      <td>decoder_1l</td>\n",
       "      <td>15</td>\n",
       "      <td>2021-06-28 10:44:35</td>\n",
       "      <td>C:\\Users\\user\\Workspace\\geometric-dl-dmri\\runs...</td>\n",
       "    </tr>\n",
       "    <tr>\n",
       "      <th>2021-06-28 14:48:27</th>\n",
       "      <td>0.001</td>\n",
       "      <td>256</td>\n",
       "      <td>2000</td>\n",
       "      <td>21</td>\n",
       "      <td>decoder_2l</td>\n",
       "      <td>15</td>\n",
       "      <td>2021-06-28 14:48:27</td>\n",
       "      <td>C:\\Users\\user\\Workspace\\geometric-dl-dmri\\runs...</td>\n",
       "    </tr>\n",
       "    <tr>\n",
       "      <th>2021-06-28 19:31:11</th>\n",
       "      <td>0.001</td>\n",
       "      <td>256</td>\n",
       "      <td>2000</td>\n",
       "      <td>21</td>\n",
       "      <td>decoder_3l</td>\n",
       "      <td>15</td>\n",
       "      <td>2021-06-28 19:31:11</td>\n",
       "      <td>C:\\Users\\user\\Workspace\\geometric-dl-dmri\\runs...</td>\n",
       "    </tr>\n",
       "    <tr>\n",
       "      <th>2021-06-29 00:47:25</th>\n",
       "      <td>0.001</td>\n",
       "      <td>256</td>\n",
       "      <td>2000</td>\n",
       "      <td>42</td>\n",
       "      <td>decoder_1l</td>\n",
       "      <td>15</td>\n",
       "      <td>2021-06-29 00:47:25</td>\n",
       "      <td>C:\\Users\\user\\Workspace\\geometric-dl-dmri\\runs...</td>\n",
       "    </tr>\n",
       "    <tr>\n",
       "      <th>2021-06-29 04:45:53</th>\n",
       "      <td>0.001</td>\n",
       "      <td>256</td>\n",
       "      <td>2000</td>\n",
       "      <td>42</td>\n",
       "      <td>decoder_2l</td>\n",
       "      <td>15</td>\n",
       "      <td>2021-06-29 04:45:53</td>\n",
       "      <td>C:\\Users\\user\\Workspace\\geometric-dl-dmri\\runs...</td>\n",
       "    </tr>\n",
       "    <tr>\n",
       "      <th>2021-06-29 09:33:59</th>\n",
       "      <td>0.001</td>\n",
       "      <td>256</td>\n",
       "      <td>2000</td>\n",
       "      <td>42</td>\n",
       "      <td>decoder_3l</td>\n",
       "      <td>15</td>\n",
       "      <td>2021-06-29 09:33:59</td>\n",
       "      <td>C:\\Users\\user\\Workspace\\geometric-dl-dmri\\runs...</td>\n",
       "    </tr>\n",
       "    <tr>\n",
       "      <th>2021-06-29 14:51:26</th>\n",
       "      <td>0.001</td>\n",
       "      <td>256</td>\n",
       "      <td>2000</td>\n",
       "      <td>84</td>\n",
       "      <td>decoder_1l</td>\n",
       "      <td>15</td>\n",
       "      <td>2021-06-29 14:51:26</td>\n",
       "      <td>C:\\Users\\user\\Workspace\\geometric-dl-dmri\\runs...</td>\n",
       "    </tr>\n",
       "    <tr>\n",
       "      <th>2021-06-29 18:54:22</th>\n",
       "      <td>0.001</td>\n",
       "      <td>256</td>\n",
       "      <td>2000</td>\n",
       "      <td>84</td>\n",
       "      <td>decoder_2l</td>\n",
       "      <td>15</td>\n",
       "      <td>2021-06-29 18:54:22</td>\n",
       "      <td>C:\\Users\\user\\Workspace\\geometric-dl-dmri\\runs...</td>\n",
       "    </tr>\n",
       "    <tr>\n",
       "      <th>2021-06-29 23:41:58</th>\n",
       "      <td>0.001</td>\n",
       "      <td>256</td>\n",
       "      <td>2000</td>\n",
       "      <td>84</td>\n",
       "      <td>decoder_3l</td>\n",
       "      <td>15</td>\n",
       "      <td>2021-06-29 23:41:58</td>\n",
       "      <td>C:\\Users\\user\\Workspace\\geometric-dl-dmri\\runs...</td>\n",
       "    </tr>\n",
       "    <tr>\n",
       "      <th>2021-06-30 04:53:13</th>\n",
       "      <td>0.001</td>\n",
       "      <td>256</td>\n",
       "      <td>2000</td>\n",
       "      <td>168</td>\n",
       "      <td>decoder_1l</td>\n",
       "      <td>15</td>\n",
       "      <td>2021-06-30 04:53:13</td>\n",
       "      <td>C:\\Users\\user\\Workspace\\geometric-dl-dmri\\runs...</td>\n",
       "    </tr>\n",
       "    <tr>\n",
       "      <th>2021-06-30 09:14:04</th>\n",
       "      <td>0.001</td>\n",
       "      <td>256</td>\n",
       "      <td>2000</td>\n",
       "      <td>168</td>\n",
       "      <td>decoder_2l</td>\n",
       "      <td>15</td>\n",
       "      <td>2021-06-30 09:14:04</td>\n",
       "      <td>C:\\Users\\user\\Workspace\\geometric-dl-dmri\\runs...</td>\n",
       "    </tr>\n",
       "    <tr>\n",
       "      <th>2021-06-30 14:09:54</th>\n",
       "      <td>0.001</td>\n",
       "      <td>256</td>\n",
       "      <td>2000</td>\n",
       "      <td>168</td>\n",
       "      <td>decoder_3l</td>\n",
       "      <td>15</td>\n",
       "      <td>2021-06-30 14:09:54</td>\n",
       "      <td>C:\\Users\\user\\Workspace\\geometric-dl-dmri\\runs...</td>\n",
       "    </tr>\n",
       "    <tr>\n",
       "      <th>2021-06-30 19:21:00</th>\n",
       "      <td>0.001</td>\n",
       "      <td>256</td>\n",
       "      <td>2000</td>\n",
       "      <td>336</td>\n",
       "      <td>decoder_1l</td>\n",
       "      <td>15</td>\n",
       "      <td>2021-06-30 19:21:00</td>\n",
       "      <td>C:\\Users\\user\\Workspace\\geometric-dl-dmri\\runs...</td>\n",
       "    </tr>\n",
       "    <tr>\n",
       "      <th>2021-07-01 00:15:25</th>\n",
       "      <td>0.001</td>\n",
       "      <td>256</td>\n",
       "      <td>2000</td>\n",
       "      <td>336</td>\n",
       "      <td>decoder_2l</td>\n",
       "      <td>15</td>\n",
       "      <td>2021-07-01 00:15:25</td>\n",
       "      <td>C:\\Users\\user\\Workspace\\geometric-dl-dmri\\runs...</td>\n",
       "    </tr>\n",
       "    <tr>\n",
       "      <th>2021-07-01 05:30:27</th>\n",
       "      <td>0.001</td>\n",
       "      <td>256</td>\n",
       "      <td>2000</td>\n",
       "      <td>336</td>\n",
       "      <td>decoder_3l</td>\n",
       "      <td>15</td>\n",
       "      <td>2021-07-01 05:30:27</td>\n",
       "      <td>C:\\Users\\user\\Workspace\\geometric-dl-dmri\\runs...</td>\n",
       "    </tr>\n",
       "  </tbody>\n",
       "</table>\n",
       "</div>"
      ],
      "text/plain": [
       "                        lr  batch_size  num_epochs  n_features     decoder  \\\n",
       "2021-06-28 10:44:35  0.001         256        2000          21  decoder_1l   \n",
       "2021-06-28 14:48:27  0.001         256        2000          21  decoder_2l   \n",
       "2021-06-28 19:31:11  0.001         256        2000          21  decoder_3l   \n",
       "2021-06-29 00:47:25  0.001         256        2000          42  decoder_1l   \n",
       "2021-06-29 04:45:53  0.001         256        2000          42  decoder_2l   \n",
       "2021-06-29 09:33:59  0.001         256        2000          42  decoder_3l   \n",
       "2021-06-29 14:51:26  0.001         256        2000          84  decoder_1l   \n",
       "2021-06-29 18:54:22  0.001         256        2000          84  decoder_2l   \n",
       "2021-06-29 23:41:58  0.001         256        2000          84  decoder_3l   \n",
       "2021-06-30 04:53:13  0.001         256        2000         168  decoder_1l   \n",
       "2021-06-30 09:14:04  0.001         256        2000         168  decoder_2l   \n",
       "2021-06-30 14:09:54  0.001         256        2000         168  decoder_3l   \n",
       "2021-06-30 19:21:00  0.001         256        2000         336  decoder_1l   \n",
       "2021-07-01 00:15:25  0.001         256        2000         336  decoder_2l   \n",
       "2021-07-01 05:30:27  0.001         256        2000         336  decoder_3l   \n",
       "\n",
       "                     test            datetime  \\\n",
       "2021-06-28 10:44:35    15 2021-06-28 10:44:35   \n",
       "2021-06-28 14:48:27    15 2021-06-28 14:48:27   \n",
       "2021-06-28 19:31:11    15 2021-06-28 19:31:11   \n",
       "2021-06-29 00:47:25    15 2021-06-29 00:47:25   \n",
       "2021-06-29 04:45:53    15 2021-06-29 04:45:53   \n",
       "2021-06-29 09:33:59    15 2021-06-29 09:33:59   \n",
       "2021-06-29 14:51:26    15 2021-06-29 14:51:26   \n",
       "2021-06-29 18:54:22    15 2021-06-29 18:54:22   \n",
       "2021-06-29 23:41:58    15 2021-06-29 23:41:58   \n",
       "2021-06-30 04:53:13    15 2021-06-30 04:53:13   \n",
       "2021-06-30 09:14:04    15 2021-06-30 09:14:04   \n",
       "2021-06-30 14:09:54    15 2021-06-30 14:09:54   \n",
       "2021-06-30 19:21:00    15 2021-06-30 19:21:00   \n",
       "2021-07-01 00:15:25    15 2021-07-01 00:15:25   \n",
       "2021-07-01 05:30:27    15 2021-07-01 05:30:27   \n",
       "\n",
       "                                                                  path  \n",
       "2021-06-28 10:44:35  C:\\Users\\user\\Workspace\\geometric-dl-dmri\\runs...  \n",
       "2021-06-28 14:48:27  C:\\Users\\user\\Workspace\\geometric-dl-dmri\\runs...  \n",
       "2021-06-28 19:31:11  C:\\Users\\user\\Workspace\\geometric-dl-dmri\\runs...  \n",
       "2021-06-29 00:47:25  C:\\Users\\user\\Workspace\\geometric-dl-dmri\\runs...  \n",
       "2021-06-29 04:45:53  C:\\Users\\user\\Workspace\\geometric-dl-dmri\\runs...  \n",
       "2021-06-29 09:33:59  C:\\Users\\user\\Workspace\\geometric-dl-dmri\\runs...  \n",
       "2021-06-29 14:51:26  C:\\Users\\user\\Workspace\\geometric-dl-dmri\\runs...  \n",
       "2021-06-29 18:54:22  C:\\Users\\user\\Workspace\\geometric-dl-dmri\\runs...  \n",
       "2021-06-29 23:41:58  C:\\Users\\user\\Workspace\\geometric-dl-dmri\\runs...  \n",
       "2021-06-30 04:53:13  C:\\Users\\user\\Workspace\\geometric-dl-dmri\\runs...  \n",
       "2021-06-30 09:14:04  C:\\Users\\user\\Workspace\\geometric-dl-dmri\\runs...  \n",
       "2021-06-30 14:09:54  C:\\Users\\user\\Workspace\\geometric-dl-dmri\\runs...  \n",
       "2021-06-30 19:21:00  C:\\Users\\user\\Workspace\\geometric-dl-dmri\\runs...  \n",
       "2021-07-01 00:15:25  C:\\Users\\user\\Workspace\\geometric-dl-dmri\\runs...  \n",
       "2021-07-01 05:30:27  C:\\Users\\user\\Workspace\\geometric-dl-dmri\\runs...  "
      ]
     },
     "execution_count": 45,
     "metadata": {},
     "output_type": "execute_result"
    }
   ],
   "source": [
    "models_path = Path(ROOT_PATH, \"runs\", \"models\")\n",
    "\n",
    "frames = []\n",
    "for model_path in models_path.glob(\"*.pt\"):\n",
    "    stem = model_path.stem\n",
    "    #     logger.debug('found: %s', stem)\n",
    "    features_dict = extract_features(stem)\n",
    "    features_dict[\"path\"] = model_path\n",
    "\n",
    "    # Convert types\n",
    "    features_dict[\"lr\"] = float(features_dict[\"lr\"])\n",
    "    features_dict[\"batch_size\"] = int(features_dict[\"batch_size\"])\n",
    "    features_dict[\"num_epochs\"] = int(features_dict[\"num_epochs\"])\n",
    "    features_dict[\"n_features\"] = int(features_dict[\"n_features\"])\n",
    "    features_dict[\"test\"] = int(features_dict[\"test\"])\n",
    "\n",
    "    df_part = pd.DataFrame(features_dict, index=[features_dict[\"datetime\"]])\n",
    "    frames.append(df_part)\n",
    "\n",
    "df = pd.concat(frames)\n",
    "df"
   ]
  },
  {
   "cell_type": "code",
   "execution_count": 46,
   "id": "e53607ca-a811-4eb8-864f-0009b5414ae2",
   "metadata": {},
   "outputs": [
    {
     "name": "stdout",
     "output_type": "stream",
     "text": [
      "<class 'pandas.core.frame.DataFrame'>\n",
      "DatetimeIndex: 15 entries, 2021-06-28 10:44:35 to 2021-07-01 05:30:27\n",
      "Data columns (total 8 columns):\n",
      " #   Column      Non-Null Count  Dtype         \n",
      "---  ------      --------------  -----         \n",
      " 0   lr          15 non-null     float64       \n",
      " 1   batch_size  15 non-null     int64         \n",
      " 2   num_epochs  15 non-null     int64         \n",
      " 3   n_features  15 non-null     int64         \n",
      " 4   decoder     15 non-null     object        \n",
      " 5   test        15 non-null     int64         \n",
      " 6   datetime    15 non-null     datetime64[ns]\n",
      " 7   path        15 non-null     object        \n",
      "dtypes: datetime64[ns](1), float64(1), int64(4), object(2)\n",
      "memory usage: 1.1+ KB\n"
     ]
    }
   ],
   "source": [
    "df.info()"
   ]
  },
  {
   "cell_type": "markdown",
   "id": "402225a7-b0d0-4631-804f-ddf1163a8134",
   "metadata": {},
   "source": [
    "## Model evalutation"
   ]
  },
  {
   "cell_type": "code",
   "execution_count": 47,
   "id": "ea2199a5",
   "metadata": {},
   "outputs": [],
   "source": [
    "test_set = MRISelectorSubjDataset(\n",
    "    Path(ROOT_PATH, \"data\"), \"data_.hdf5\", \"header_.csv\", np.array([15])\n",
    ")\n",
    "test_gen = DataLoader(\n",
    "    test_set,\n",
    "    batch_size=256//2,\n",
    "    shuffle=False,\n",
    "    num_workers=0,\n",
    "    pin_memory=True,\n",
    "    drop_last=True,\n",
    ")"
   ]
  },
  {
   "cell_type": "code",
   "execution_count": 48,
   "id": "46aa3758-9b36-4572-aa3f-282d18998dfe",
   "metadata": {},
   "outputs": [
    {
     "ename": "RuntimeError",
     "evalue": "CUDA error: an illegal memory access was encountered\nCUDA kernel errors might be asynchronously reported at some other API call,so the stacktrace below might be incorrect.\nFor debugging consider passing CUDA_LAUNCH_BLOCKING=1.",
     "output_type": "error",
     "traceback": [
      "\u001b[1;31m---------------------------------------------------------------------------\u001b[0m",
      "\u001b[1;31mRuntimeError\u001b[0m                              Traceback (most recent call last)",
      "\u001b[1;32m<ipython-input-48-ce4c7794a6ca>\u001b[0m in \u001b[0;36m<module>\u001b[1;34m\u001b[0m\n\u001b[0;32m      3\u001b[0m \u001b[1;32mfor\u001b[0m \u001b[0mindex\u001b[0m\u001b[1;33m,\u001b[0m \u001b[0mrow\u001b[0m \u001b[1;32min\u001b[0m \u001b[0mdf\u001b[0m\u001b[1;33m.\u001b[0m\u001b[0miterrows\u001b[0m\u001b[1;33m(\u001b[0m\u001b[1;33m)\u001b[0m\u001b[1;33m:\u001b[0m\u001b[1;33m\u001b[0m\u001b[1;33m\u001b[0m\u001b[0m\n\u001b[0;32m      4\u001b[0m     \u001b[0mmodel_path\u001b[0m \u001b[1;33m=\u001b[0m \u001b[0mrow\u001b[0m\u001b[1;33m[\u001b[0m\u001b[1;34m\"path\"\u001b[0m\u001b[1;33m]\u001b[0m\u001b[1;33m\u001b[0m\u001b[1;33m\u001b[0m\u001b[0m\n\u001b[1;32m----> 5\u001b[1;33m     model = ConcreteSelect(\n\u001b[0m\u001b[0;32m      6\u001b[0m         \u001b[0moutput_dim\u001b[0m\u001b[1;33m=\u001b[0m\u001b[0mint\u001b[0m\u001b[1;33m(\u001b[0m\u001b[0mrow\u001b[0m\u001b[1;33m[\u001b[0m\u001b[1;34m\"n_features\"\u001b[0m\u001b[1;33m]\u001b[0m\u001b[1;33m)\u001b[0m\u001b[1;33m,\u001b[0m\u001b[1;33m\u001b[0m\u001b[1;33m\u001b[0m\u001b[0m\n\u001b[0;32m      7\u001b[0m         \u001b[0minput_shape\u001b[0m\u001b[1;33m=\u001b[0m\u001b[1;36m1344\u001b[0m\u001b[1;33m,\u001b[0m\u001b[1;33m\u001b[0m\u001b[1;33m\u001b[0m\u001b[0m\n",
      "\u001b[1;32m~\\Workspace\\geometric-dl-dmri\\utils\\concrete\\concrete_select.py\u001b[0m in \u001b[0;36m__init__\u001b[1;34m(self, output_dim, input_shape, decoder, device, n_features, start_temp, min_temp, alpha, **kwargs)\u001b[0m\n\u001b[0;32m     61\u001b[0m         \u001b[1;31m# the input layer has output (None,N_params_in). In this case, probably equal to input_dim\u001b[0m\u001b[1;33m\u001b[0m\u001b[1;33m\u001b[0m\u001b[1;33m\u001b[0m\u001b[0m\n\u001b[0;32m     62\u001b[0m         \u001b[0mself\u001b[0m\u001b[1;33m.\u001b[0m\u001b[0minput_shape\u001b[0m \u001b[1;33m=\u001b[0m \u001b[0minput_shape\u001b[0m\u001b[1;33m\u001b[0m\u001b[1;33m\u001b[0m\u001b[0m\n\u001b[1;32m---> 63\u001b[1;33m         \u001b[0mself\u001b[0m\u001b[1;33m.\u001b[0m\u001b[0mdecoder\u001b[0m \u001b[1;33m=\u001b[0m \u001b[0mdecoder\u001b[0m\u001b[1;33m(\u001b[0m\u001b[0mn_features\u001b[0m\u001b[1;33m,\u001b[0m \u001b[0mdevice\u001b[0m\u001b[1;33m)\u001b[0m\u001b[1;33m\u001b[0m\u001b[1;33m\u001b[0m\u001b[0m\n\u001b[0m\u001b[0;32m     64\u001b[0m         \u001b[0mself\u001b[0m\u001b[1;33m.\u001b[0m\u001b[0mdevice\u001b[0m \u001b[1;33m=\u001b[0m \u001b[0mdevice\u001b[0m\u001b[1;33m\u001b[0m\u001b[1;33m\u001b[0m\u001b[0m\n\u001b[0;32m     65\u001b[0m         \u001b[0mself\u001b[0m\u001b[1;33m.\u001b[0m\u001b[0mstart_temp\u001b[0m \u001b[1;33m=\u001b[0m \u001b[0mstart_temp\u001b[0m\u001b[1;33m\u001b[0m\u001b[1;33m\u001b[0m\u001b[0m\n",
      "\u001b[1;32m~\\Workspace\\geometric-dl-dmri\\utils\\concrete\\concrete_select.py\u001b[0m in \u001b[0;36mdecoder_1l\u001b[1;34m(n_features, device)\u001b[0m\n\u001b[0;32m      7\u001b[0m \u001b[1;32mdef\u001b[0m \u001b[0mdecoder_1l\u001b[0m\u001b[1;33m(\u001b[0m\u001b[0mn_features\u001b[0m\u001b[1;33m,\u001b[0m \u001b[0mdevice\u001b[0m\u001b[1;33m)\u001b[0m\u001b[1;33m:\u001b[0m\u001b[1;33m\u001b[0m\u001b[1;33m\u001b[0m\u001b[0m\n\u001b[0;32m      8\u001b[0m     \u001b[1;34m\"\"\"Simple decoder from the latent layer to the output layer\"\"\"\u001b[0m\u001b[1;33m\u001b[0m\u001b[1;33m\u001b[0m\u001b[0m\n\u001b[1;32m----> 9\u001b[1;33m     \u001b[0mdense1344\u001b[0m \u001b[1;33m=\u001b[0m \u001b[0mnn\u001b[0m\u001b[1;33m.\u001b[0m\u001b[0mLinear\u001b[0m\u001b[1;33m(\u001b[0m\u001b[0mn_features\u001b[0m\u001b[1;33m,\u001b[0m \u001b[1;36m1344\u001b[0m\u001b[1;33m,\u001b[0m \u001b[0mdevice\u001b[0m\u001b[1;33m=\u001b[0m\u001b[0mdevice\u001b[0m\u001b[1;33m)\u001b[0m\u001b[1;33m\u001b[0m\u001b[1;33m\u001b[0m\u001b[0m\n\u001b[0m\u001b[0;32m     10\u001b[0m \u001b[1;33m\u001b[0m\u001b[0m\n\u001b[0;32m     11\u001b[0m     \u001b[1;32mdef\u001b[0m \u001b[0mdecoder\u001b[0m\u001b[1;33m(\u001b[0m\u001b[0mx\u001b[0m\u001b[1;33m)\u001b[0m\u001b[1;33m:\u001b[0m\u001b[1;33m\u001b[0m\u001b[1;33m\u001b[0m\u001b[0m\n",
      "\u001b[1;32mc:\\users\\user\\miniconda3\\envs\\mudi\\lib\\site-packages\\torch\\nn\\modules\\linear.py\u001b[0m in \u001b[0;36m__init__\u001b[1;34m(self, in_features, out_features, bias, device, dtype)\u001b[0m\n\u001b[0;32m     84\u001b[0m         \u001b[1;32melse\u001b[0m\u001b[1;33m:\u001b[0m\u001b[1;33m\u001b[0m\u001b[1;33m\u001b[0m\u001b[0m\n\u001b[0;32m     85\u001b[0m             \u001b[0mself\u001b[0m\u001b[1;33m.\u001b[0m\u001b[0mregister_parameter\u001b[0m\u001b[1;33m(\u001b[0m\u001b[1;34m'bias'\u001b[0m\u001b[1;33m,\u001b[0m \u001b[1;32mNone\u001b[0m\u001b[1;33m)\u001b[0m\u001b[1;33m\u001b[0m\u001b[1;33m\u001b[0m\u001b[0m\n\u001b[1;32m---> 86\u001b[1;33m         \u001b[0mself\u001b[0m\u001b[1;33m.\u001b[0m\u001b[0mreset_parameters\u001b[0m\u001b[1;33m(\u001b[0m\u001b[1;33m)\u001b[0m\u001b[1;33m\u001b[0m\u001b[1;33m\u001b[0m\u001b[0m\n\u001b[0m\u001b[0;32m     87\u001b[0m \u001b[1;33m\u001b[0m\u001b[0m\n\u001b[0;32m     88\u001b[0m     \u001b[1;32mdef\u001b[0m \u001b[0mreset_parameters\u001b[0m\u001b[1;33m(\u001b[0m\u001b[0mself\u001b[0m\u001b[1;33m)\u001b[0m \u001b[1;33m->\u001b[0m \u001b[1;32mNone\u001b[0m\u001b[1;33m:\u001b[0m\u001b[1;33m\u001b[0m\u001b[1;33m\u001b[0m\u001b[0m\n",
      "\u001b[1;32mc:\\users\\user\\miniconda3\\envs\\mudi\\lib\\site-packages\\torch\\nn\\modules\\linear.py\u001b[0m in \u001b[0;36mreset_parameters\u001b[1;34m(self)\u001b[0m\n\u001b[0;32m     87\u001b[0m \u001b[1;33m\u001b[0m\u001b[0m\n\u001b[0;32m     88\u001b[0m     \u001b[1;32mdef\u001b[0m \u001b[0mreset_parameters\u001b[0m\u001b[1;33m(\u001b[0m\u001b[0mself\u001b[0m\u001b[1;33m)\u001b[0m \u001b[1;33m->\u001b[0m \u001b[1;32mNone\u001b[0m\u001b[1;33m:\u001b[0m\u001b[1;33m\u001b[0m\u001b[1;33m\u001b[0m\u001b[0m\n\u001b[1;32m---> 89\u001b[1;33m         \u001b[0minit\u001b[0m\u001b[1;33m.\u001b[0m\u001b[0mkaiming_uniform_\u001b[0m\u001b[1;33m(\u001b[0m\u001b[0mself\u001b[0m\u001b[1;33m.\u001b[0m\u001b[0mweight\u001b[0m\u001b[1;33m,\u001b[0m \u001b[0ma\u001b[0m\u001b[1;33m=\u001b[0m\u001b[0mmath\u001b[0m\u001b[1;33m.\u001b[0m\u001b[0msqrt\u001b[0m\u001b[1;33m(\u001b[0m\u001b[1;36m5\u001b[0m\u001b[1;33m)\u001b[0m\u001b[1;33m)\u001b[0m\u001b[1;33m\u001b[0m\u001b[1;33m\u001b[0m\u001b[0m\n\u001b[0m\u001b[0;32m     90\u001b[0m         \u001b[1;32mif\u001b[0m \u001b[0mself\u001b[0m\u001b[1;33m.\u001b[0m\u001b[0mbias\u001b[0m \u001b[1;32mis\u001b[0m \u001b[1;32mnot\u001b[0m \u001b[1;32mNone\u001b[0m\u001b[1;33m:\u001b[0m\u001b[1;33m\u001b[0m\u001b[1;33m\u001b[0m\u001b[0m\n\u001b[0;32m     91\u001b[0m             \u001b[0mfan_in\u001b[0m\u001b[1;33m,\u001b[0m \u001b[0m_\u001b[0m \u001b[1;33m=\u001b[0m \u001b[0minit\u001b[0m\u001b[1;33m.\u001b[0m\u001b[0m_calculate_fan_in_and_fan_out\u001b[0m\u001b[1;33m(\u001b[0m\u001b[0mself\u001b[0m\u001b[1;33m.\u001b[0m\u001b[0mweight\u001b[0m\u001b[1;33m)\u001b[0m\u001b[1;33m\u001b[0m\u001b[1;33m\u001b[0m\u001b[0m\n",
      "\u001b[1;32mc:\\users\\user\\miniconda3\\envs\\mudi\\lib\\site-packages\\torch\\nn\\init.py\u001b[0m in \u001b[0;36mkaiming_uniform_\u001b[1;34m(tensor, a, mode, nonlinearity)\u001b[0m\n\u001b[0;32m    393\u001b[0m     \u001b[0mbound\u001b[0m \u001b[1;33m=\u001b[0m \u001b[0mmath\u001b[0m\u001b[1;33m.\u001b[0m\u001b[0msqrt\u001b[0m\u001b[1;33m(\u001b[0m\u001b[1;36m3.0\u001b[0m\u001b[1;33m)\u001b[0m \u001b[1;33m*\u001b[0m \u001b[0mstd\u001b[0m  \u001b[1;31m# Calculate uniform bounds from standard deviation\u001b[0m\u001b[1;33m\u001b[0m\u001b[1;33m\u001b[0m\u001b[0m\n\u001b[0;32m    394\u001b[0m     \u001b[1;32mwith\u001b[0m \u001b[0mtorch\u001b[0m\u001b[1;33m.\u001b[0m\u001b[0mno_grad\u001b[0m\u001b[1;33m(\u001b[0m\u001b[1;33m)\u001b[0m\u001b[1;33m:\u001b[0m\u001b[1;33m\u001b[0m\u001b[1;33m\u001b[0m\u001b[0m\n\u001b[1;32m--> 395\u001b[1;33m         \u001b[1;32mreturn\u001b[0m \u001b[0mtensor\u001b[0m\u001b[1;33m.\u001b[0m\u001b[0muniform_\u001b[0m\u001b[1;33m(\u001b[0m\u001b[1;33m-\u001b[0m\u001b[0mbound\u001b[0m\u001b[1;33m,\u001b[0m \u001b[0mbound\u001b[0m\u001b[1;33m)\u001b[0m\u001b[1;33m\u001b[0m\u001b[1;33m\u001b[0m\u001b[0m\n\u001b[0m\u001b[0;32m    396\u001b[0m \u001b[1;33m\u001b[0m\u001b[0m\n\u001b[0;32m    397\u001b[0m \u001b[1;33m\u001b[0m\u001b[0m\n",
      "\u001b[1;31mRuntimeError\u001b[0m: CUDA error: an illegal memory access was encountered\nCUDA kernel errors might be asynchronously reported at some other API call,so the stacktrace below might be incorrect.\nFor debugging consider passing CUDA_LAUNCH_BLOCKING=1."
     ]
    }
   ],
   "source": [
    "mse_loss = torch.nn.MSELoss(reduction=\"none\").to(device)\n",
    "\n",
    "for index, row in df.iterrows():\n",
    "    model_path = row[\"path\"]\n",
    "    model = ConcreteSelect(\n",
    "        output_dim=int(row[\"n_features\"]),\n",
    "        input_shape=1344,\n",
    "        decoder=decoder_dict[row[\"decoder\"]],\n",
    "        device=device,\n",
    "    ).to(device)\n",
    "    model.load_state_dict(torch.load(model_path))\n",
    "    model.eval()\n",
    "    with torch.no_grad():\n",
    "        total_loss = 0\n",
    "        for target in test_set:\n",
    "            pred, _ = model(torch.from_numpy(target).to(device))\n",
    "            total_loss += mse_loss(target, pred)\n",
    "\n",
    "    logger.info(\"loss %s\", total_loss / len(test_gen))"
   ]
  },
  {
   "cell_type": "code",
   "execution_count": 49,
   "id": "bfa8901f-0f7b-4a94-874b-46fe292c8607",
   "metadata": {},
   "outputs": [
    {
     "ename": "RuntimeError",
     "evalue": "CUDA error: an illegal memory access was encountered\nCUDA kernel errors might be asynchronously reported at some other API call,so the stacktrace below might be incorrect.\nFor debugging consider passing CUDA_LAUNCH_BLOCKING=1.",
     "output_type": "error",
     "traceback": [
      "\u001b[1;31m---------------------------------------------------------------------------\u001b[0m",
      "\u001b[1;31mRuntimeError\u001b[0m                              Traceback (most recent call last)",
      "\u001b[1;32m<ipython-input-49-18bf08814031>\u001b[0m in \u001b[0;36m<module>\u001b[1;34m\u001b[0m\n\u001b[1;32m----> 1\u001b[1;33m \u001b[0mtorch\u001b[0m\u001b[1;33m.\u001b[0m\u001b[0mcuda\u001b[0m\u001b[1;33m.\u001b[0m\u001b[0mempty_cache\u001b[0m\u001b[1;33m(\u001b[0m\u001b[1;33m)\u001b[0m\u001b[1;33m\u001b[0m\u001b[1;33m\u001b[0m\u001b[0m\n\u001b[0m",
      "\u001b[1;32mc:\\users\\user\\miniconda3\\envs\\mudi\\lib\\site-packages\\torch\\cuda\\memory.py\u001b[0m in \u001b[0;36mempty_cache\u001b[1;34m()\u001b[0m\n\u001b[0;32m    112\u001b[0m     \"\"\"\n\u001b[0;32m    113\u001b[0m     \u001b[1;32mif\u001b[0m \u001b[0mis_initialized\u001b[0m\u001b[1;33m(\u001b[0m\u001b[1;33m)\u001b[0m\u001b[1;33m:\u001b[0m\u001b[1;33m\u001b[0m\u001b[1;33m\u001b[0m\u001b[0m\n\u001b[1;32m--> 114\u001b[1;33m         \u001b[0mtorch\u001b[0m\u001b[1;33m.\u001b[0m\u001b[0m_C\u001b[0m\u001b[1;33m.\u001b[0m\u001b[0m_cuda_emptyCache\u001b[0m\u001b[1;33m(\u001b[0m\u001b[1;33m)\u001b[0m\u001b[1;33m\u001b[0m\u001b[1;33m\u001b[0m\u001b[0m\n\u001b[0m\u001b[0;32m    115\u001b[0m \u001b[1;33m\u001b[0m\u001b[0m\n\u001b[0;32m    116\u001b[0m \u001b[1;33m\u001b[0m\u001b[0m\n",
      "\u001b[1;31mRuntimeError\u001b[0m: CUDA error: an illegal memory access was encountered\nCUDA kernel errors might be asynchronously reported at some other API call,so the stacktrace below might be incorrect.\nFor debugging consider passing CUDA_LAUNCH_BLOCKING=1."
     ]
    }
   ],
   "source": [
    "torch.cuda.empty_cache()"
   ]
  },
  {
   "cell_type": "code",
   "execution_count": null,
   "id": "ba7bf2e6-74e2-439b-8175-1d89d0bfed03",
   "metadata": {},
   "outputs": [],
   "source": []
  }
 ],
 "metadata": {
  "kernelspec": {
   "display_name": "Python 3",
   "language": "python",
   "name": "python3"
  },
  "language_info": {
   "codemirror_mode": {
    "name": "ipython",
    "version": 3
   },
   "file_extension": ".py",
   "mimetype": "text/x-python",
   "name": "python",
   "nbconvert_exporter": "python",
   "pygments_lexer": "ipython3",
   "version": "3.9.5"
  }
 },
 "nbformat": 4,
 "nbformat_minor": 5
}
